{
 "cells": [
  {
   "cell_type": "code",
   "execution_count": null,
   "metadata": {
    "id": "C9vuPf4wY1Q6"
   },
   "outputs": [],
   "source": [
    "import pickle\n",
    "import numpy as np\n",
    "import pandas as pd\n",
    "\n",
    "import torch\n",
    "import torch.nn as nn\n",
    "from torch.utils.data import Dataset, DataLoader"
   ]
  },
  {
   "cell_type": "code",
   "execution_count": null,
   "metadata": {
    "colab": {
     "base_uri": "https://localhost:8080/"
    },
    "executionInfo": {
     "elapsed": 31395,
     "status": "ok",
     "timestamp": 1733971347115,
     "user": {
      "displayName": "Yuang Fan",
      "userId": "00407420671938150425"
     },
     "user_tz": 360
    },
    "id": "GJdMd8q3Ny_-",
    "outputId": "22741279-8ec5-4bce-c4d9-4a5b3771535e"
   },
   "outputs": [
    {
     "name": "stdout",
     "output_type": "stream",
     "text": [
      "torch.Size([208585, 24, 24])\n",
      "torch.Size([208585, 24, 7])\n",
      "torch.Size([208585, 24, 31])\n",
      "torch.Size([208585, 24, 53])\n",
      "torch.Size([208585, 24, 12])\n",
      "torch.Size([208585, 24, 24])\n",
      "torch.Size([208585, 24, 36])\n",
      "torch.Size([208585, 24, 36])\n",
      "torch.Size([208585, 36])\n"
     ]
    }
   ],
   "source": [
    "# Loading data\n",
    "on_colab = False\n",
    "\n",
    "if on_colab:\n",
    "    from google.colab import drive\n",
    "    drive.mount('/content/drive')\n",
    "    path = '/content/drive/My Drive/CS 547/DeepDiveProject/'\n",
    "else:\n",
    "    path = ''\n",
    "\n",
    "dataset_path = path + 'feature_hour_of_day.pickle'\n",
    "with open(dataset_path, 'rb') as f:\n",
    "    feature_hour_of_day = torch.Tensor(np.array(pickle.load(f)))\n",
    "print(feature_hour_of_day.shape)\n",
    "\n",
    "dataset_path = path + 'feature_day_of_week.pickle'\n",
    "with open(dataset_path, 'rb') as f:\n",
    "    feature_day_of_week = torch.Tensor(np.array(pickle.load(f)))\n",
    "print(feature_day_of_week.shape)\n",
    "\n",
    "dataset_path = path + 'feature_day_of_month.pickle'\n",
    "with open(dataset_path, 'rb') as f:\n",
    "    feature_day_of_month = torch.Tensor(np.array(pickle.load(f)))\n",
    "print(feature_day_of_month.shape)\n",
    "\n",
    "dataset_path = path + 'feature_week_of_year.pickle'\n",
    "with open(dataset_path, 'rb') as f:\n",
    "    feature_week_of_year = torch.Tensor(np.array(pickle.load(f)))\n",
    "print(feature_week_of_year.shape)\n",
    "\n",
    "dataset_path = path + 'feature_month_of_year.pickle'\n",
    "with open(dataset_path, 'rb') as f:\n",
    "    feature_month_of_year = torch.Tensor(np.array(pickle.load(f)))\n",
    "print(feature_month_of_year.shape)\n",
    "\n",
    "dataset_path = path + 'feature_year.pickle'\n",
    "with open(dataset_path, 'rb') as f:\n",
    "    feature_year = torch.Tensor(np.array(pickle.load(f)))\n",
    "print(feature_year.shape)\n",
    "\n",
    "dataset_path = path + 'feature_num_crime.pickle'\n",
    "with open(dataset_path, 'rb') as f:\n",
    "    feature_num_crime = torch.Tensor(np.array(pickle.load(f)))\n",
    "print(feature_num_crime.shape)\n",
    "\n",
    "dataset_path = path + 'feature_percentage_arrest.pickle'\n",
    "with open(dataset_path, 'rb') as f:\n",
    "    feature_percentage_arrest = torch.Tensor(np.array(pickle.load(f)))\n",
    "print(feature_percentage_arrest.shape)\n",
    "\n",
    "dataset_path = path + 'labels.pickle'\n",
    "with open(dataset_path, 'rb') as f:\n",
    "    labels = torch.Tensor(np.array(pickle.load(f)))\n",
    "print(labels.shape)"
   ]
  },
  {
   "cell_type": "code",
   "execution_count": null,
   "metadata": {
    "id": "QnjaXDa9C4hr"
   },
   "outputs": [],
   "source": []
  },
  {
   "cell_type": "code",
   "execution_count": null,
   "metadata": {
    "id": "5ivNicxXF8G9"
   },
   "outputs": [],
   "source": [
    "# feature_num_crime 36\n",
    "# feature_percentage_arrest 36\n",
    "# feature_hour_of_day 24\n",
    "# feature_day_of_week 7\n",
    "# feature_day_of_month 31\n",
    "# feature_week_of_year 53\n",
    "# feature_month_of_year 12\n",
    "# feature_year 24"
   ]
  },
  {
   "cell_type": "code",
   "execution_count": null,
   "metadata": {
    "colab": {
     "base_uri": "https://localhost:8080/"
    },
    "executionInfo": {
     "elapsed": 1229,
     "status": "ok",
     "timestamp": 1733971348426,
     "user": {
      "displayName": "Yuang Fan",
      "userId": "00407420671938150425"
     },
     "user_tz": 360
    },
    "id": "j9BJId014Lbv",
    "outputId": "e3543f5e-1659-4c21-ca00-3f90e4b89015"
   },
   "outputs": [
    {
     "data": {
      "text/plain": [
       "torch.Size([208585, 24, 223])"
      ]
     },
     "execution_count": 3,
     "metadata": {},
     "output_type": "execute_result"
    }
   ],
   "source": [
    "# Combine the features\n",
    "features = torch.cat((feature_num_crime, feature_percentage_arrest, feature_hour_of_day,\n",
    "                      feature_day_of_week, feature_day_of_month, feature_week_of_year,\n",
    "                      feature_month_of_year, feature_year), dim=-1)\n",
    "features.shape"
   ]
  },
  {
   "cell_type": "code",
   "execution_count": null,
   "metadata": {
    "id": "RnPAaeQgqFrM"
   },
   "outputs": [],
   "source": [
    "# Split train, val, test set\n",
    "from sklearn.model_selection import train_test_split\n",
    "\n",
    "x_train, x_val_test, y_train, y_val_test = train_test_split(features, labels, test_size=0.3)\n",
    "x_val, x_test, y_val, y_test = train_test_split(x_val_test, y_val_test, test_size=0.5)\n",
    "\n",
    "x_val_test = None\n",
    "y_val_test = None"
   ]
  },
  {
   "cell_type": "code",
   "execution_count": null,
   "metadata": {
    "id": "Uz4poSN0Tg_x"
   },
   "outputs": [],
   "source": []
  },
  {
   "cell_type": "code",
   "execution_count": null,
   "metadata": {
    "id": "fB015m8UtFCY"
   },
   "outputs": [],
   "source": [
    "# Creating torch dataset for use in dataloader\n",
    "class custom_dataset(Dataset):\n",
    "    def __init__(self, features, labels):\n",
    "        self.features = features\n",
    "        self.labels = labels\n",
    "\n",
    "    def __len__(self):\n",
    "        return len(self.labels)\n",
    "\n",
    "    def __getitem__(self, idx):\n",
    "        return torch.Tensor(self.features[idx]), torch.Tensor(self.labels[idx])\n",
    "\n",
    "train_dataset = custom_dataset(x_train, y_train)\n",
    "val_dataset = custom_dataset(x_val, y_val)\n",
    "test_dataset = custom_dataset(x_test, y_test)"
   ]
  },
  {
   "cell_type": "code",
   "execution_count": null,
   "metadata": {
    "id": "dHGYB2hnqz1H"
   },
   "outputs": [],
   "source": [
    "# Defining the model\n",
    "class RNN(nn.Module):\n",
    "    def __init__(self, input_size, hidden_size, output_size, num_layers, nonlinearity, bias, batch_first, dropout, bidirectional):\n",
    "        super(RNN, self).__init__()\n",
    "        self.rnn = nn.RNN(input_size, hidden_size, num_layers=num_layers, nonlinearity=nonlinearity, bias=bias, batch_first=batch_first, dropout=dropout, bidirectional=bidirectional)\n",
    "        self.fc = nn.Linear(hidden_size, output_size)\n",
    "\n",
    "    def forward(self, x):\n",
    "        x, _ = self.rnn(x)\n",
    "        x = self.fc(x[:, -1, :])\n",
    "        return x"
   ]
  },
  {
   "cell_type": "code",
   "execution_count": null,
   "metadata": {
    "id": "1G8fvcZltgbo"
   },
   "outputs": [],
   "source": [
    "def model_evaluation(batch_size, optimizer, hidden_size, num_layers, nonlinearity, bias, dropout, bidirectional, num_epoch, learning_rate):\n",
    "    device = torch.device(\"cuda\" if torch.cuda.is_available() else \"cpu\")\n",
    "\n",
    "    # Create dataloaders\n",
    "    train_loader = DataLoader(train_dataset, batch_size=batch_size, shuffle=True)\n",
    "    val_loader = DataLoader(val_dataset, batch_size=batch_size, shuffle=False)\n",
    "    test_loader = DataLoader(test_dataset, batch_size=batch_size, shuffle=False)\n",
    "\n",
    "    # Initialize the model\n",
    "    rnn = RNN(input_size=223, hidden_size=hidden_size, output_size=36, num_layers=num_layers, nonlinearity=nonlinearity, bias=bias, batch_first=True, dropout=dropout, bidirectional=bidirectional).to(device)\n",
    "\n",
    "    criterion = nn.MSELoss()\n",
    "    if optimizer == 'Adam':\n",
    "        optimizer = torch.optim.Adam(rnn.parameters(), lr=learning_rate)\n",
    "    elif optimizer == 'SGD':\n",
    "        optimizer = torch.optim.SGD(rnn.parameters(), lr=learning_rate)\n",
    "    else:\n",
    "        print('Invalid optimizer')\n",
    "        return\n",
    "\n",
    "    best_val_loss = float('inf')\n",
    "    best_model = None\n",
    "\n",
    "    # Training and validating\n",
    "    for epoch in range(num_epoch):\n",
    "        rnn.train()\n",
    "        train_loss = 0\n",
    "        for batch_x, batch_y in train_loader:\n",
    "            predictions = rnn(batch_x.to(device))\n",
    "            loss = criterion(predictions, batch_y.to(device))\n",
    "            optimizer.zero_grad()\n",
    "            loss.backward()\n",
    "            optimizer.step()\n",
    "            train_loss += loss.item()\n",
    "\n",
    "        train_loss /= len(train_loader)\n",
    "        rnn.eval()\n",
    "        val_loss = 0\n",
    "        with torch.no_grad():\n",
    "            for batch_x, batch_y in val_loader:\n",
    "                predictions = rnn(batch_x.to(device))\n",
    "                loss = criterion(predictions, batch_y.to(device))\n",
    "                val_loss += loss.item()\n",
    "\n",
    "        val_loss /= len(val_loader)\n",
    "\n",
    "        print(f\"Epoch {epoch + 1}/{num_epoch}, Train Loss: {train_loss}, Validation Loss: {val_loss}\")\n",
    "\n",
    "        if val_loss < best_val_loss:\n",
    "            best_val_loss = val_loss\n",
    "            best_model = rnn.state_dict()\n",
    "            torch.save(best_model, path+'best_model.pth')\n",
    "\n",
    "    if best_model:\n",
    "        rnn.load_state_dict(best_model)\n",
    "\n",
    "    rnn.eval()\n",
    "    test_loss = 0\n",
    "    all_predictions = []\n",
    "    all_labels = []\n",
    "\n",
    "    # Evaluate on test set\n",
    "    with torch.no_grad():\n",
    "        for batch_x, batch_y in test_loader:\n",
    "            predictions = rnn(batch_x.to(device))\n",
    "            loss = criterion(predictions, batch_y.to(device))\n",
    "            all_predictions.extend(predictions.cpu())\n",
    "            all_labels.extend(batch_y.cpu())\n",
    "            test_loss += loss.item()\n",
    "\n",
    "    test_loss /= len(test_loader)\n",
    "    rmse = torch.sqrt(torch.tensor(test_loss))\n",
    "\n",
    "\n",
    "    print(f\"Test Loss: {test_loss:.2f}, Test RMSE: {rmse:.2f}\")\n",
    "    return test_loss, rmse, best_model"
   ]
  },
  {
   "cell_type": "code",
   "execution_count": null,
   "metadata": {
    "id": "TplSBIc_fWnH"
   },
   "outputs": [],
   "source": [
    "optimizer = 'Adam'\n",
    "num_epoch = 20\n",
    "batch_size = 64\n",
    "learning_rate = 0.001\n",
    "hidden_size = 64\n",
    "num_layers = 2\n",
    "nonlinearity = 'relu'\n",
    "bias = True\n",
    "batch_first = True\n",
    "dropout = 0\n",
    "bidirectional = False"
   ]
  },
  {
   "cell_type": "code",
   "execution_count": null,
   "metadata": {
    "colab": {
     "base_uri": "https://localhost:8080/"
    },
    "executionInfo": {
     "elapsed": 158211,
     "status": "ok",
     "timestamp": 1733971779745,
     "user": {
      "displayName": "Yuang Fan",
      "userId": "00407420671938150425"
     },
     "user_tz": 360
    },
    "id": "93ybguD1fYUE",
    "outputId": "10c41a20-5c87-45bb-c0ae-9090e21a8ee2"
   },
   "outputs": [
    {
     "name": "stdout",
     "output_type": "stream",
     "text": [
      "Epoch 1/20, Train Loss: 1.614947163175847, Validation Loss: 1.4172786024450525\n",
      "Epoch 2/20, Train Loss: 1.425435262484889, Validation Loss: 1.3760635861346082\n",
      "Epoch 3/20, Train Loss: 1.3763091262237321, Validation Loss: 1.3540276694882867\n",
      "Epoch 4/20, Train Loss: 1.3463152948698383, Validation Loss: 1.3795988129448062\n",
      "Epoch 5/20, Train Loss: 1.3267485215463313, Validation Loss: 1.3133004468642862\n",
      "Epoch 6/20, Train Loss: 1.313497017811099, Validation Loss: 1.3233411264565824\n",
      "Epoch 7/20, Train Loss: 1.2999854849212322, Validation Loss: 1.2857606507274026\n",
      "Epoch 8/20, Train Loss: 1.2931341077809162, Validation Loss: 1.2930412606958963\n",
      "Epoch 9/20, Train Loss: 1.2784452332570613, Validation Loss: 1.2916413110458047\n",
      "Epoch 10/20, Train Loss: 1.2674394916746305, Validation Loss: 1.2777662272346044\n",
      "Epoch 11/20, Train Loss: 1.267148902654439, Validation Loss: 1.301818911527076\n",
      "Epoch 12/20, Train Loss: 1.2582494748150643, Validation Loss: 1.2689996488499007\n",
      "Epoch 13/20, Train Loss: 1.2508830198533278, Validation Loss: 1.2585322000010126\n",
      "Epoch 14/20, Train Loss: 1.2436293572265782, Validation Loss: 1.2604172018895607\n",
      "Epoch 15/20, Train Loss: 1.2396430046698381, Validation Loss: 1.3626288465683203\n",
      "Epoch 16/20, Train Loss: 1.2397320618972143, Validation Loss: 1.2577877206792616\n",
      "Epoch 17/20, Train Loss: 1.2437428749516592, Validation Loss: 1.2501348430149881\n",
      "Epoch 18/20, Train Loss: 1.224464938240444, Validation Loss: 1.245788707079819\n",
      "Epoch 19/20, Train Loss: 1.2349251850094323, Validation Loss: 1.267884960691378\n",
      "Epoch 20/20, Train Loss: 1.2276739424043952, Validation Loss: 1.2446955939743416\n",
      "Test Loss: 1.26, Test RMSE: 1.12\n"
     ]
    }
   ],
   "source": [
    "_, _, best_model = model_evaluation(batch_size, optimizer, hidden_size, num_layers, nonlinearity, bias, dropout, bidirectional, num_epoch, learning_rate)"
   ]
  },
  {
   "cell_type": "code",
   "execution_count": null,
   "metadata": {
    "id": "DcFzciE5Utbc"
   },
   "outputs": [],
   "source": [
    "device = torch.device(\"cuda\" if torch.cuda.is_available() else \"cpu\")"
   ]
  },
  {
   "cell_type": "code",
   "execution_count": null,
   "metadata": {
    "id": "pPcRQqK0waR1"
   },
   "outputs": [],
   "source": [
    "# Loading model weights and predicting\n",
    "model = RNN(input_size=223, hidden_size=64, output_size=36, num_layers=2, nonlinearity='relu', bias=True, batch_first=True, dropout=0, bidirectional=False).to(device)\n",
    "model.load_state_dict(best_model)\n",
    "model.eval()\n",
    "\n",
    "with torch.no_grad():\n",
    "    y_pred = model(x_test.to(device)).cpu()"
   ]
  },
  {
   "cell_type": "code",
   "execution_count": null,
   "metadata": {
    "colab": {
     "base_uri": "https://localhost:8080/"
    },
    "executionInfo": {
     "elapsed": 11,
     "status": "ok",
     "timestamp": 1733978317503,
     "user": {
      "displayName": "Yuang Fan",
      "userId": "00407420671938150425"
     },
     "user_tz": 360
    },
    "id": "to3RS_k6w2Nc",
    "outputId": "4fc66f6d-8809-47c5-91b2-c9c5804b1b90"
   },
   "outputs": [
    {
     "name": "stdout",
     "output_type": "stream",
     "text": [
      "Mean Percentage Error in Total: 31.457881927490234%\n",
      "Mean Percentage Error for each Crime Type: \n",
      "[1.7182867e+01 6.0543976e+01 4.4721729e+01 6.2010773e+01 6.7549711e-01\n",
      " 6.7789017e+01 5.4064777e+01 1.5468224e+01 6.2109032e+01 6.6694435e+01\n",
      " 3.1963959e-03 2.9148979e+01 2.0922464e+01 4.7853474e-02 3.8934994e+01\n",
      " 2.5524652e+00 1.0267479e+01 3.0388924e+01 6.0184338e+01 4.6431259e+01\n",
      " 2.5571320e-02 8.5346766e-02 6.3922270e-03 5.0346261e-01 7.5144554e+01\n",
      " 4.8182636e-02 5.9402275e+01 1.7317640e+01 1.2125890e-01 5.2558949e+01\n",
      " 6.3895397e-03 6.1062572e+01 7.6728203e+01 3.0475271e+00 4.2326382e+01\n",
      " 5.3956314e+01]%\n"
     ]
    }
   ],
   "source": [
    "# Evaluate on percentage error metrics\n",
    "with np.errstate(divide='ignore', invalid='ignore'):\n",
    "    tmp_percentage_errors = np.abs((y_test - y_pred) / y_test) * 100\n",
    "\n",
    "percentage_errors = np.where(y_test == 0, 100, tmp_percentage_errors)\n",
    "percentage_errors = np.where((y_test == 0) & (y_pred <= 1e-1), 0, percentage_errors)\n",
    "\n",
    "\n",
    "print(f\"Mean Percentage Error in Total: {np.mean(np.mean(percentage_errors))}%\")\n",
    "print(f\"Mean Percentage Error for each Crime Type: \\n{np.mean(percentage_errors, axis=0)}%\")"
   ]
  },
  {
   "cell_type": "code",
   "execution_count": null,
   "metadata": {
    "colab": {
     "base_uri": "https://localhost:8080/"
    },
    "executionInfo": {
     "elapsed": 14,
     "status": "ok",
     "timestamp": 1733973636570,
     "user": {
      "displayName": "Yuang Fan",
      "userId": "00407420671938150425"
     },
     "user_tz": 360
    },
    "id": "JAYZW1ZPx9On",
    "outputId": "50d60f8a-4dde-40b3-80fe-d6938576b5a8"
   },
   "outputs": [
    {
     "name": "stdout",
     "output_type": "stream",
     "text": [
      "Mean Absolute Error in Total: 0.49269866943359375\n",
      "Mean Absolute Error for each Crime Type: \n",
      "[1.1171017e-01 1.2584739e+00 2.2140641e+00 1.1519334e+00 1.5595963e-02\n",
      " 2.2493929e-01 1.7131293e+00 8.9520767e-02 5.9117591e-01 1.0085377e+00\n",
      " 2.1684723e-04 1.3489152e-01 1.2921342e-01 5.1166443e-03 1.6011500e-01\n",
      " 4.5134712e-02 6.7371242e-02 1.3725871e-01 1.1267688e+00 1.3349626e+00\n",
      " 8.9255511e-04 1.9263355e-02 1.7786860e-03 1.0619721e-02 3.9502022e-01\n",
      " 6.3158283e-03 1.2241113e+00 2.2717051e-01 3.8253551e-03 2.7235913e-01\n",
      " 6.1950512e-04 9.8242754e-01 2.7928570e-01 4.6038892e-02 2.3330932e+00\n",
      " 4.1420642e-01]\n"
     ]
    }
   ],
   "source": [
    "# Evaluate on absolute error metrics\n",
    "absolute_errors = np.abs(np.array(y_test - y_pred))\n",
    "mean_absolute_error = np.mean(absolute_errors, axis=0)\n",
    "\n",
    "print(f\"Mean Absolute Error in Total: {np.mean(np.mean(absolute_errors))}\")\n",
    "print(f\"Mean Absolute Error for each Crime Type: \\n{np.mean(absolute_errors, axis=0)}\")"
   ]
  },
  {
   "cell_type": "code",
   "execution_count": null,
   "metadata": {
    "id": "eDydPeycy4b5"
   },
   "outputs": [],
   "source": []
  }
 ],
 "metadata": {
  "accelerator": "GPU",
  "colab": {
   "gpuType": "T4",
   "provenance": []
  },
  "kernelspec": {
   "display_name": "Python 3",
   "name": "python3"
  },
  "language_info": {
   "name": "python"
  }
 },
 "nbformat": 4,
 "nbformat_minor": 0
}
